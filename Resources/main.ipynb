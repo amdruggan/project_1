{
 "cells": [
  {
   "cell_type": "code",
   "execution_count": 10,
   "metadata": {},
   "outputs": [],
   "source": [
    "#Importing Libraries\n",
    "\n",
    "#Importing dependencies (pandas, json, requests, numpy, matplotlib)\n",
    "import pandas as pd\n",
    "import json\n",
    "import requests\n",
    "import numpy as np\n",
    "import matplotlib.pyplot as plt\n",
    "import scipy.stats as st\n",
    "import seaborn as sns"
   ]
  },
  {
   "cell_type": "code",
   "execution_count": 11,
   "metadata": {},
   "outputs": [
    {
     "ename": "ImportError",
     "evalue": "cannot import name 'cid' from 'config' (/Users/kathemateus/Desktop/config.py)",
     "output_type": "error",
     "traceback": [
      "\u001b[0;31m---------------------------------------------------------------------------\u001b[0m",
      "\u001b[0;31mImportError\u001b[0m                               Traceback (most recent call last)",
      "Cell \u001b[0;32mIn[11], line 3\u001b[0m\n\u001b[1;32m      1\u001b[0m \u001b[39m#Spotipy APU for Spotify (to pull data)\u001b[39;00m\n\u001b[1;32m      2\u001b[0m \u001b[39m#import Client ID and Client Secret ID from config.py\u001b[39;00m\n\u001b[0;32m----> 3\u001b[0m \u001b[39mfrom\u001b[39;00m \u001b[39mconfig\u001b[39;00m \u001b[39mimport\u001b[39;00m cid, secret\n\u001b[1;32m      5\u001b[0m \u001b[39mimport\u001b[39;00m \u001b[39mspotipy\u001b[39;00m\n\u001b[1;32m      6\u001b[0m \u001b[39mfrom\u001b[39;00m \u001b[39mspotipy\u001b[39;00m\u001b[39m.\u001b[39;00m\u001b[39moauth2\u001b[39;00m \u001b[39mimport\u001b[39;00m SpotifyClientCredentials\n",
      "\u001b[0;31mImportError\u001b[0m: cannot import name 'cid' from 'config' (/Users/kathemateus/Desktop/config.py)"
     ]
    }
   ],
   "source": [
    "#Spotipy APU for Spotify (to pull data)\n",
    "#import Client ID and Client Secret ID from config.py\n",
    "from config import cid, secret\n",
    "\n",
    "import spotipy\n",
    "from spotipy.oauth2 import SpotifyClientCredentials\n",
    "client_credentials_manager = SpotifyClientCredentials(client_id=cid, client_secret=secret)\n",
    "sp = spotipy.Spotify(client_credentials_manager\n",
    "=\n",
    "client_credentials_manager)"
   ]
  },
  {
   "attachments": {},
   "cell_type": "markdown",
   "metadata": {},
   "source": [
    "**Work from CSV data**\n",
    "\n",
    "The CSV files that are pulled in here (features_df.csv, track_df.csv) are both created using the Spotipy API. For more information on creating these files with API calls, please view the pull_spotify_data.ipynb Jupyter Notebook in this repository."
   ]
  },
  {
   "cell_type": "code",
   "execution_count": null,
   "metadata": {},
   "outputs": [],
   "source": [
    "# Import CSVs\n",
    "# Tracks\n",
    "csv_path = \"track_df.csv\"\n",
    "track_df = pd.read_csv(csv_path)\n",
    "track_df.head()\n",
    "\n",
    "# Audio features\n",
    "csv_path = \"features_df.csv\"\n",
    "audio_features_df = pd.read_csv(csv_path)\n",
    "audio_features_df.head()"
   ]
  },
  {
   "cell_type": "code",
   "execution_count": null,
   "metadata": {},
   "outputs": [],
   "source": [
    "#Merge the two dataframes together\n",
    "merged_df = pd.merge(track_df, audio_features_df, left_on=\"track_id\", right_on=\"id\", how=\"inner\")\n",
    "\n",
    "#remove original index columns, as well as columns containing information that isn't useful for our analysis/visualizations\n",
    "merged_df = merged_df.drop(columns=[\"Unnamed: 0_x\", \"Unnamed: 0_y\", \"type\", \"mode\", \"uri\", \"track_href\", \"analysis_url\", \"id\"])\n",
    "merged_df "
   ]
  },
  {
   "cell_type": "code",
   "execution_count": null,
   "metadata": {},
   "outputs": [],
   "source": [
    "# Create a function that allows us to create a scatter plot with any two of the columns in the data frame\n",
    "# It also creates a linear regression line and calculates the r value\n",
    "# The function takes in the x and y values as well as making the title of the graph equal to the column names with \"vs.\" in between\n",
    "\n",
    "def music_plot(x_values, y_values):\n",
    "    # Generate scatter plot using matplotlib (plt.scatter)\n",
    "    plt.scatter(x_values, y_values, marker=\"o\", facecolors=\"skyblue\", edgecolors=\"black\")\n",
    "\n",
    "    # Generate the titles and labels for the graph, capitalize the first letter of each word\n",
    "    plt.title(f\"{x_values.name.capitalize()} vs. {y_values.name.capitalize()}\")\n",
    "    plt.xlabel(x_values.name.capitalize())\n",
    "    plt.ylabel(y_values.name.capitalize())\n",
    "\n",
    "    # Add a grid to the graph\n",
    "    plt.grid()\n",
    "\n",
    "    # Calculate the linear regression line\n",
    "    x_values = x_values.astype('float')\n",
    "    y_values = y_values.astype('float')\n",
    "    (slope, intercept, rvalue, pvalue, stderr) = st.linregress(x_values, y_values)\n",
    "    regress_values = x_values * slope + intercept\n",
    "    line_eq = \"y = \" + str(round(slope,2)) + \"x +\" + str(round(intercept,2))\n",
    "    print(f\"The r-value is: {rvalue}\")\n",
    "\n",
    "    # Plot and annotate the linear regression line\n",
    "    plt.plot(x_values,regress_values,\"r-\")\n",
    "    plt.annotate(line_eq,(min(x_values),min(y_values)),fontsize=15,color=\"red\")\n",
    "\n",
    "    # Show the figure\n",
    "    plt.show()"
   ]
  },
  {
   "cell_type": "code",
   "execution_count": null,
   "metadata": {},
   "outputs": [],
   "source": [
    "# Create a new dataframe called artist_counts_df that has the following columns:\n",
    "# artist_name, track_count, track_names, track_ids\n",
    "# artist_name: the name of the artist\n",
    "# track_count: the number of tracks by the artist in merged_df\n",
    "# track_names: a list of the names of the tracks by the artist in merged_df\n",
    "# track_ids: a list of the ids of the tracks by the artist in merged_df\n",
    "# artist_counts_df should be sorted by track_count in descending order\n",
    "# artist_counts_df should only contain artists with 2 or more tracks in merged_df\n",
    "\n",
    "# Filter out artists with less than 2 tracks\n",
    "merged_df_filtered = merged_df.groupby('artist_name').filter(lambda x: len(x) >= 2)\n",
    "\n",
    "# Create the artist_counts_df dataframe\n",
    "artist_counts_df = merged_df_filtered.groupby('artist_name').agg({\n",
    "    'track_name': lambda x: list(x),  # Change 'track_id' to 'track_name'\n",
    "    'track_id': lambda x: list(x)  # Change 'track_id' to 'track_ids'\n",
    "})\n",
    "\n",
    "artist_counts_df.head()\n",
    "\n",
    "# Rename the columns\n",
    "artist_counts_df = artist_counts_df.rename(columns={\n",
    "    'track_name': 'track_names', \n",
    "    'track_id': 'track_ids'  # Change 'id_<lambda>' to 'track_id_<lambda>'\n",
    "})\n",
    "\n",
    "for index, artist in artist_counts_df.iterrows():\n",
    "    artist_counts_df.loc[index, 'track_count'] = int(len(artist['track_names']))\n",
    "\n",
    "# Change column order in artist_counts_df\n",
    "artist_counts_df = artist_counts_df[['track_count', 'track_names', 'track_ids']]\n",
    "\n",
    "# Sort artist_counts_df by track_count in descending order\n",
    "artist_counts_df = artist_counts_df.sort_values(by='track_count', ascending=False)\n"
   ]
  },
  {
   "cell_type": "code",
   "execution_count": null,
   "metadata": {},
   "outputs": [],
   "source": [
    "# Create a bar chart of the data in the artist_counts_df dataframe, plotting all artists where artist_counts_df['track_count'] is greater than 5.\n",
    "# Create the bar chart using the matplotlib.pyplot.bar() function.\n",
    "# Use the artist_counts_df['artist_name'] column for the x-axis labels.\n",
    "# Use the artist_counts_df['track_count'] column for the y-axis values.\n",
    "# Use the artist_counts_df['artist_name'] column for the tick labels.\n",
    "# Use the plt.xticks() function to rotate the tick labels 90 degrees.\n",
    "# Use the plt.ylabel() function to add the y-axis label.\n",
    "# Use the plt.title() function to add the chart title.\n",
    "# Use the plt.show() function to display the chart.\n",
    "\n",
    "filtered_df = artist_counts_df[artist_counts_df['track_count'] > 5]\n",
    "\n",
    "# Create the bar chart using the filtered dataframe\n",
    "plt.bar(filtered_df.index, filtered_df['track_count'])\n",
    "\n",
    "# Set the x-axis tick labels to the artist names and rotate them 90 degrees\n",
    "plt.xticks(filtered_df.index, rotation=90)\n",
    "\n",
    "# Add the y-axis label\n",
    "plt.ylabel('Track Count')\n",
    "\n",
    "# Add the chart title\n",
    "plt.title('Artist Track Counts')\n",
    "\n",
    "# Display the chart\n",
    "plt.show()\n"
   ]
  },
  {
   "cell_type": "code",
   "execution_count": null,
   "metadata": {},
   "outputs": [],
   "source": [
    "# Create a summary statistics dataframe that includes the summary statistics for all the numerical columns in the merged_df dataframe\n",
    "summary_df = merged_df.describe()\n",
    "\n",
    "# Use the Pandas transpose function to flip the axis\n",
    "summary_df = summary_df.transpose()\n",
    "\n",
    "# Use the Pandas to_csv function to save the summary statistics dataframe to a csv file\n",
    "summary_df.to_csv('summary_statistics.csv')\n",
    "\n",
    "# Check dataframe info\n",
    "summary_df.head()"
   ]
  },
  {
   "cell_type": "code",
   "execution_count": null,
   "metadata": {},
   "outputs": [],
   "source": [
    "# For each artist in the artist_counts_df, get the track_IDs for artists where artist_counts_df['track_count'] > 1\n",
    "# Start by filtering the artist_counts_df to only include artists with more than one track\n",
    "multi_track_artist_counts_df = artist_counts_df[artist_counts_df['track_count'] > 1]\n",
    "\n",
    "multi_track_artist_track_IDs = []\n",
    "\n",
    "# Create a list of track_IDs for each artist in multi_track_artist_counts_df['tracks']\n",
    "for i in multi_track_artist_counts_df['track_names']:\n",
    "    # Add the list from each row to the multi track list so that we end up with a list of strings without other lists\n",
    "    multi_track_artist_track_IDs = multi_track_artist_track_IDs + i\n",
    "\n",
    "multi_track_artist_counts_df.head()"
   ]
  },
  {
   "attachments": {},
   "cell_type": "markdown",
   "metadata": {},
   "source": [
    "***Alec Q1: How long are the songs in this dataset, and what type of distribution describes their duration?***"
   ]
  },
  {
   "cell_type": "code",
   "execution_count": null,
   "metadata": {},
   "outputs": [],
   "source": [
    "# Create a histogram of song durations, pulling the tracks from the merged_df dataframe and using the duration_ms column\n",
    "\n",
    "# Convert duration_ms to seconds\n",
    "merged_df['duration_sec'] = merged_df['duration_ms'] / 1000\n",
    "\n",
    "# Create a histogram of song durations\n",
    "plt.hist(merged_df['duration_sec'], bins=30)\n",
    "\n",
    "# Add labels and title\n",
    "plt.xlabel('Duration (seconds)')\n",
    "plt.ylabel('Count')\n",
    "plt.title('Histogram: Song Durations in Seconds')\n",
    "\n",
    "# Show the plot\n",
    "plt.show()\n"
   ]
  },
  {
   "cell_type": "code",
   "execution_count": null,
   "metadata": {},
   "outputs": [],
   "source": [
    "# Assuming 'df' is your DataFrame and 'column_name' is the column you want to analyze\n",
    "data = merged_df['duration_sec']  # Replace 'column_name' with your actual column name\n",
    "\n",
    "# Create a new figure with a specific size (width: 10, height: 4 inches)\n",
    "plt.figure(figsize=(10, 4))\n",
    "\n",
    "# Create a subplot grid with 1 row and 2 columns, select the first subplot\n",
    "plt.subplot(1, 2, 1)\n",
    "\n",
    "# Create a histogram of the data with 20 bins, normalize the data to form a probability density, \n",
    "# set transparency (alpha) for the bars, and color them blue\n",
    "plt.hist(data, bins=20, density=True, alpha=0.6, color='b')\n",
    "\n",
    "# Set the title of the first subplot\n",
    "plt.title('Song Duration Distribution')\n",
    "\n",
    "# Create a subplot grid with 1 row and 2 columns, select the second subplot\n",
    "plt.subplot(1, 2, 2)\n",
    "\n",
    "# Create a probability plot (Q-Q plot) of the data against a normal distribution,\n",
    "# and use the provided subplot (plt) for plotting\n",
    "st.probplot(data, dist='norm', plot=plt)\n",
    "\n",
    "# Set the title of the second subplot\n",
    "plt.title('Quantile-Quantile Plot')\n",
    "\n",
    "# Adjust the layout of the subplots to prevent overlapping\n",
    "plt.tight_layout()\n",
    "\n",
    "# Display the entire figure with both subplots\n",
    "plt.show()"
   ]
  },
  {
   "cell_type": "code",
   "execution_count": null,
   "metadata": {},
   "outputs": [],
   "source": [
    "# Calculate summary statistics for the duration_sec column\n",
    "duration_sec_summary = merged_df['duration_sec'].describe()\n",
    "\n",
    "# Create a box plot with the information in duration_sec_summary\n",
    "# Use the matplotlib.plt library to create the plot\n",
    "fig, ax = plt.subplots()\n",
    "ax.boxplot(merged_df['duration_sec'], vert=False, showfliers=False, patch_artist=True, boxprops=dict(facecolor='lightblue', color='skyblue'), whiskerprops=dict(color='g'), capprops=dict(color='g'), medianprops=dict(color='g'))\n",
    "\n",
    "# Add axis labels and a title\n",
    "ax.set_xlabel('Duration (seconds)')\n",
    "ax.set_title('Summary Statistics for Song Duration (Seconds)')\n",
    "\n",
    "# Plot each individual value in merged_df['duration_sec'] and highlight the outliers\n",
    "outliers_below = merged_df['duration_sec'][merged_df['duration_sec'] < duration_sec_summary['25%'] - 1.5 * (duration_sec_summary['75%'] - duration_sec_summary['25%'])]\n",
    "outliers_above = merged_df['duration_sec'][merged_df['duration_sec'] > duration_sec_summary['75%'] + 1.5 * (duration_sec_summary['75%'] - duration_sec_summary['25%'])]\n",
    "plt.scatter(merged_df['duration_sec'], [1] * len(merged_df['duration_sec']), alpha=0.5)\n",
    "plt.scatter(outliers_below, [1] * len(outliers_below), color='r', alpha=0.5)\n",
    "plt.scatter(outliers_above, [1] * len(outliers_above), color='r', alpha=0.5)\n",
    "\n",
    "# Now, calculate and print the amount of outliers, total and below/above the IQR\n",
    "print('Total outliers: ' + str(len(outliers_below) + len(outliers_above)))\n",
    "print('Outliers below IQR: ' + str(len(outliers_below)))\n",
    "print('Outliers above IQR: ' + str(len(outliers_above)))\n",
    "\n",
    "# Create two dataframes of the outliers that includes: song name, artist name, duration_sec\n",
    "# One of the dataframes for the outliers below the IQR and one for the outliers above the IQR\n",
    "outliers_above_df = merged_df[merged_df['duration_sec'] > duration_sec_summary['75%'] + 1.5 * (duration_sec_summary['75%'] - duration_sec_summary['25%'])]\n",
    "outliers_below_df = merged_df[merged_df['duration_sec'] < duration_sec_summary['25%'] - 1.5 * (duration_sec_summary['75%'] - duration_sec_summary['25%'])]\n",
    "\n",
    "# Show the plot\n",
    "plt.show()\n",
    "\n",
    "# Print the summary statistics\n",
    "print(duration_sec_summary)\n"
   ]
  },
  {
   "cell_type": "markdown",
   "metadata": {},
   "source": [
    "The above details the summary statistics and plots them in a box plot and histogram, then checks to see if it is a normal distribution mathematically with SciPy.Stats using Quantile to Quantile plotting on the histogram data to see that the distribution of duration of top songs is a normal distribution because when the theoretical quantiles are graphed against the ordered values we see a linear relationship."
   ]
  },
  {
   "attachments": {},
   "cell_type": "markdown",
   "metadata": {},
   "source": [
    "***Alec Question #2: Do the lengths of songs correlate with their energy, valence, and danceability?***"
   ]
  },
  {
   "cell_type": "code",
   "execution_count": null,
   "metadata": {},
   "outputs": [],
   "source": [
    "#Create plots of energy, valence, danceability vs. duration_sec:\n",
    "music_plot(merged_df[\"energy\"],merged_df[\"duration_sec\"])\n",
    "music_plot(merged_df[\"valence\"],merged_df[\"duration_sec\"])\n",
    "music_plot(merged_df[\"danceability\"],merged_df[\"duration_sec\"])"
   ]
  },
  {
   "cell_type": "code",
   "execution_count": null,
   "metadata": {},
   "outputs": [],
   "source": [
    "#Compute correlation coefficients to quantify the relationships between song length and the other metrics\n",
    "\n",
    "# Calculate Pearson correlation coefficients\n",
    "corr_energy = merged_df['duration_sec'].corr(merged_df['energy'])\n",
    "corr_valence = merged_df['duration_sec'].corr(merged_df['valence'])\n",
    "corr_danceability = merged_df['duration_sec'].corr(merged_df['danceability'])\n",
    "\n",
    "print(f\"Correlation between Song Length and Energy: {corr_energy}\")\n",
    "print(f\"Correlation between Song Length and Valence: {corr_valence}\")\n",
    "print(f\"Correlation between Song Length and Danceability: {corr_danceability}\")\n"
   ]
  },
  {
   "attachments": {},
   "cell_type": "markdown",
   "metadata": {},
   "source": [
    "Correlation between Song Length and Energy: -0.1541\n",
    "This correlation coefficient of approximately -0.1541 indicates a weak negative correlation between song length and energy. In other words, as song length increases, the energy tends to decrease slightly. The negative sign suggests that longer songs tend to have slightly lower energy levels.\n",
    "\n",
    "Correlation between Song Length and Valence: -0.2607\n",
    "This correlation coefficient of approximately -0.2607 indicates a slightly stronger negative correlation between song length and valence. As song length increases, the valence (positivity) of the songs tends to decrease to some extent. The negative sign suggests that longer songs might be associated with slightly less positive valence.\n",
    "\n",
    "Correlation between Song Length and Danceability: -0.2176\n",
    "This correlation coefficient of approximately -0.2176 indicates a moderate negative correlation between song length and danceability. As song length increases, the danceability tends to decrease moderately. The negative sign suggests that longer songs are associated with reduced danceability."
   ]
  },
  {
   "cell_type": "code",
   "execution_count": null,
   "metadata": {},
   "outputs": [],
   "source": [
    "# Create a correlation matrix\n",
    "correlation_matrix = merged_df[['duration_sec', 'energy', 'valence', 'danceability']].corr()\n",
    "\n",
    "# Create a heatmap\n",
    "sns.heatmap(correlation_matrix, annot=True, cmap='YlGnBu', center=0)\n",
    "plt.title('Correlation Heatmap: Duration, Energy, Valence, Danceability')\n",
    "plt.show()\n"
   ]
  },
  {
   "attachments": {},
   "cell_type": "markdown",
   "metadata": {},
   "source": [
    "***Cindy Q1: How does the energy of a track relate to its danceability for the top 10 genres?***"
   ]
  },
  {
   "cell_type": "code",
   "execution_count": null,
   "metadata": {},
   "outputs": [],
   "source": [
    "#Fetch Genre Information for Each Artist:\n",
    "\n",
    "genre_list = []\n",
    "\n",
    "for artist_name in merged_df['artist_name']:\n",
    "    artist_name_str = str(artist_name)  \n",
    "    artist_info = sp.search(q='artist:' + artist_name_str, type='artist')\n",
    "    if artist_info['artists']['items']:\n",
    "        genres = artist_info['artists']['items'][0]['genres']\n",
    "        genre_list.append(genres)\n",
    "    else:\n",
    "        genre_list.append([])  \n",
    "\n",
    "genre_df = merged_df.copy()\n",
    "# Add the list of genres to a new DataFrame\n",
    "genre_df['genres'] = genre_list\n",
    "genre_df.head()"
   ]
  },
  {
   "cell_type": "code",
   "execution_count": null,
   "metadata": {},
   "outputs": [],
   "source": [
    "#HOW DOES THE ENERGY OF A TRACK RELATE TO ITS DANCEABILITY FOR THE TOP 10 GENRES?\n",
    "\n",
    "from scipy.stats import linregress\n",
    "\n",
    "# Calculate the frequency of each genre\n",
    "genre_counts = genre_df['genres'].explode().value_counts()\n",
    "\n",
    "# Sort the genres by frequency in descending order\n",
    "top_10_genres = genre_counts.head(10).index\n",
    "\n",
    "# Create a new DataFrame with one row per genre for each track\n",
    "genre_expanded_df = genre_df.explode('genres')\n",
    "\n",
    "# Filter the new DataFrame to include only the top 10 genres\n",
    "filtered_genre_expanded_df = genre_expanded_df[genre_expanded_df['genres'].isin(top_10_genres)]\n",
    "\n",
    "# Create a scatter plot with color mapping using seaborn\n",
    "plt.figure(figsize=(10, 6))\n",
    "sns.scatterplot(data=filtered_genre_expanded_df, x='energy', y='danceability', hue='genres', palette='tab20')\n",
    "\n",
    "# Calculate linear regression parameters for each genre separately\n",
    "for genre in top_10_genres:\n",
    "    genre_data = filtered_genre_expanded_df[filtered_genre_expanded_df['genres'] == genre]\n",
    "    slope, intercept, r_value, p_value, std_err = linregress(genre_data['energy'], genre_data['danceability'])\n",
    "    x_range = np.linspace(min(genre_data['energy']), max(genre_data['energy']), 100)\n",
    "    y_range = slope * x_range + intercept\n",
    "    plt.plot(x_range, y_range, label=f'{genre} - R² = {r_value**2:.2f}')\n",
    "\n",
    "plt.title(\"Energy vs. Danceability by Top 10 Genres with Linear Regression\")\n",
    "plt.xlabel(\"Energy\")\n",
    "plt.ylabel(\"Danceability\")\n",
    "plt.legend(title='Genre', bbox_to_anchor=(1.05, 1), loc='upper left')\n",
    "plt.show()"
   ]
  },
  {
   "cell_type": "code",
   "execution_count": null,
   "metadata": {},
   "outputs": [],
   "source": [
    "# Calculate the frequency of each genre\n",
    "genre_counts = genre_df['genres'].explode().value_counts()\n",
    "\n",
    "# Sort the genres by frequency in descending order\n",
    "top_10_genres = genre_counts.head(10).index\n",
    "\n",
    "# Create a new DataFrame with one row per genre for each track\n",
    "genre_expanded_df = genre_df.explode('genres')\n",
    "\n",
    "# Calculate the mean energy and danceability for each genre\n",
    "genre_mean_energy_dance = genre_expanded_df.groupby('genres')[['energy', 'danceability']].mean()\n",
    "\n",
    "# Filter the genre_mean_energy_dance DataFrame to include only the top 10 genres\n",
    "top_10_genre_mean_energy_dance = genre_mean_energy_dance[genre_mean_energy_dance.index.isin(top_10_genres)]\n",
    "\n",
    "# Reset index to make 'genres' a column again\n",
    "top_10_genre_mean_energy_dance.reset_index(inplace=True)\n",
    "\n",
    "# Create a bar plot\n",
    "plt.figure(figsize=(10, 6))\n",
    "sns.barplot(data=top_10_genre_mean_energy_dance, x='genres', y='energy', color='blue', label='Mean Energy')\n",
    "sns.barplot(data=top_10_genre_mean_energy_dance, x='genres', y='danceability', color='orange', label='Mean Danceability')\n",
    "plt.xticks(rotation=45)\n",
    "plt.xlabel('Genres')\n",
    "plt.ylabel('Mean Value')\n",
    "plt.title('Mean Energy and Danceability for Top 10 Genres by Count')\n",
    "plt.legend()\n",
    "plt.show()\n"
   ]
  },
  {
   "cell_type": "markdown",
   "metadata": {},
   "source": [
    "In summary with both the scatter and the bar plot we can see that there is not a strong linear relationship between anergy levels and danceability acroos tracks (as shown by the scatter plor low r's values), genres play a significant in determining the average and danceability values (as shown by the bar plot). This suggest that genres have unique features that affect how energy and danceability are distribuites with them."
   ]
  },
  {
   "attachments": {},
   "cell_type": "markdown",
   "metadata": {},
   "source": [
    "***Cindy Q2: Is there any connection between these audio features (speachiness and loudness) of a track and its popularity?***\n"
   ]
  },
  {
   "cell_type": "code",
   "execution_count": null,
   "metadata": {},
   "outputs": [],
   "source": [
    "#Is there any connection between the speechiness and loudness of a track and its popularity?\n",
    "music_plot(merged_df['speechiness'], merged_df['popularity'])\n"
   ]
  },
  {
   "cell_type": "code",
   "execution_count": null,
   "metadata": {},
   "outputs": [],
   "source": [
    "#Is there any connection between the speachiness and loudness of a track and its popularity?\n",
    "music_plot(merged_df['loudness'], merged_df['popularity'])"
   ]
  },
  {
   "cell_type": "markdown",
   "metadata": {},
   "source": [
    "For the Q2 in both cases that we analyzed speachiness vs popularity and loudness vs popularity we got rs = -0.09188389498676829 and rl = -0.03283245283615243 base on the results there seem to be a very weak negative correlation but this relatioship is not enought to draw any significant any significant conclusions. Other factor migh have a more significant influence on a tracks popularity."
   ]
  },
  {
   "attachments": {},
   "cell_type": "markdown",
   "metadata": {},
   "source": [
    "***Chelsea Q1: What are the top 10 popular artists at the moment and is there a relationship on their popularity and the kind of genre of music they produce?***"
   ]
  },
  {
   "cell_type": "code",
   "execution_count": null,
   "metadata": {},
   "outputs": [],
   "source": [
    "genre_df=merged_df[['artist_name', 'popularity']].copy()\n",
    "genre_df['genres']=genre_list\n",
    "\n",
    "sorted_genre_df= genre_df.sort_values(by='popularity', ascending= False)\n",
    "sorted_genre_df= pd.DataFrame(sorted_genre_df.head(10))\n",
    "sorted_genre_df"
   ]
  },
  {
   "cell_type": "code",
   "execution_count": null,
   "metadata": {},
   "outputs": [],
   "source": [
    "reversed_genre_df= sorted_genre_df.loc[::-1]\n",
    "plt.barh(reversed_genre_df['artist_name'], reversed_genre_df['popularity'])\n",
    "plt.xlabel('Popularity %')\n",
    "plt.ylabel('Top 10 Artists Descending from Most to Least Popular')\n",
    "plt.title('Top 10 Artists Today and Their Popularity %')\n",
    "plt.tight_layout\n",
    "plt.show()"
   ]
  },
  {
   "cell_type": "code",
   "execution_count": null,
   "metadata": {},
   "outputs": [],
   "source": [
    "from collections import Counter\n",
    "\n",
    "all_genres = [genres for genres_list in sorted_genre_df['genres'] for genres in genres_list]\n",
    "genre_counts = Counter(all_genres)\n",
    "\n",
    "genre_count_df = pd.DataFrame.from_dict(genre_counts, orient='index', columns=['genre_count'])\n",
    "genre_count_df.index.name = 'genres'\n",
    "\n",
    "genre_count_df = genre_count_df.sort_values(by='genre_count', ascending=True)\n",
    "\n",
    "\n",
    "\n",
    "\n",
    "print(genre_count_df)"
   ]
  },
  {
   "cell_type": "code",
   "execution_count": null,
   "metadata": {},
   "outputs": [],
   "source": [
    "exploded_genre_df= sorted_genre_df.explode('genres')\n",
    "exploded_genre_df"
   ]
  },
  {
   "cell_type": "code",
   "execution_count": null,
   "metadata": {},
   "outputs": [],
   "source": [
    "genre_popularity_df= exploded_genre_df.groupby('genres')['popularity'].agg(['mean','count']).reset_index()\n",
    "genre_popularity_df.columns=['genres','average popularity','genre_count']\n",
    "genre_popularity_df.sort_values(by='average popularity')"
   ]
  },
  {
   "cell_type": "code",
   "execution_count": null,
   "metadata": {},
   "outputs": [],
   "source": [
    "fig, axs= plt.subplots(1,2)\n",
    "axs[0].barh(genre_popularity_df['genres'], genre_popularity_df['genre_count'], color='skyblue')\n",
    "axs[0].set_xlabel('Genre Count')\n",
    "axs[0].set_ylabel('Genre')\n",
    "axs[0].set_title('Genre Count')\n",
    "axs[0].set_xlim(0,4)\n",
    "\n",
    "axs[1].barh(genre_popularity_df['genres'], genre_popularity_df['average popularity'], color='orange')\n",
    "axs[1].set_xlabel('Average Popularity')\n",
    "axs[1].set_title('Average Popularity')\n",
    "\n",
    "\n",
    "plt.tight_layout()\n",
    "plt.show()\n",
    "\n",
    "#k-pop reached 100% popularity at the moment with only 1 count of the k-pop genre compared to the rest of the genres. \n",
    "#Top 3 genres are k-pop, pop, and reggaeton/latin trap."
   ]
  },
  {
   "attachments": {},
   "cell_type": "markdown",
   "metadata": {},
   "source": [
    "***Chelsea Q2: How do the energy levels of the 5 top songs compare to bottom 5 songs? Do energy levels contribute to the popularity of the songs?***"
   ]
  },
  {
   "cell_type": "code",
   "execution_count": null,
   "metadata": {},
   "outputs": [],
   "source": [
    "#creating energy dataframe\n",
    "energy_df= merged_df[['artist_name','track_name','energy','popularity']]\n",
    "energy_df=pd.DataFrame(energy_df)\n",
    "#using df to sort them into top 5 high energy df and low 5 energy df\n",
    "top_5_energy= energy_df.nlargest(5,'energy')\n",
    "top_5_energy=pd.DataFrame(top_5_energy)\n",
    "low_5_energy= energy_df.nsmallest(5, 'energy')\n",
    "low_5_energy=pd.DataFrame(low_5_energy)\n",
    "low_5_energy= low_5_energy.sort_values(by='energy', ascending=False)\n",
    "#Combining them into one dataframe in order to create a scatter plot\n",
    "combined_energy =pd.concat([top_5_energy, low_5_energy], ignore_index=True)\n",
    "sorted_combined_energy= combined_energy.sort_values(by='energy',ascending=True)\n",
    "sorted_combined_energy"
   ]
  },
  {
   "cell_type": "code",
   "execution_count": null,
   "metadata": {},
   "outputs": [],
   "source": [
    "track_name= combined_energy['track_name']\n",
    "energy= combined_energy['energy']\n",
    "popularity= combined_energy['popularity']\n",
    "\n",
    "plt.bar(range(len(energy)), energy, label= 'energy')\n",
    "plt.bar(range(len(popularity)), popularity, bottom=energy, label= 'popularity')\n",
    "\n",
    "for i, val in enumerate(energy):\n",
    "    plt.text(i, val + 0.02, f'{val:.2f}', ha='center', va='bottom')\n",
    "\n",
    "plt.xticks(range(len(track_name)), track_name, rotation= 45, ha='right')\n",
    "plt.xlabel('Track Name')\n",
    "plt.ylabel('Values')\n",
    "plt.title('Energy Vs Popularity of a Track')\n",
    "\n",
    "plt.legend()"
   ]
  },
  {
   "cell_type": "code",
   "execution_count": null,
   "metadata": {},
   "outputs": [],
   "source": [
    "music_plot(merged_df['energy'], merged_df['popularity'])\n",
    "#weak positive linear correlation. as energy increased, popularity also increases"
   ]
  }
 ],
 "metadata": {
  "kernelspec": {
   "display_name": "amd_dev_2",
   "language": "python",
   "name": "python3"
  },
  "language_info": {
   "codemirror_mode": {
    "name": "ipython",
    "version": 3
   },
   "file_extension": ".py",
   "mimetype": "text/x-python",
   "name": "python",
   "nbconvert_exporter": "python",
   "pygments_lexer": "ipython3",
   "version": "3.10.12"
  },
  "orig_nbformat": 4
 },
 "nbformat": 4,
 "nbformat_minor": 2
}
